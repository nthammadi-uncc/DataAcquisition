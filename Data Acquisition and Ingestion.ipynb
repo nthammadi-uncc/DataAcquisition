{
 "cells": [
  {
   "cell_type": "markdown",
   "metadata": {
    "id": "Huczk85VOFoO"
   },
   "source": [
    "# DSBA-HCIP 6160: Data Acquisition and Ingestion for Data Analytics\n",
    "\n",
    "### Author: Naomi Thammadi"
   ]
  },
  {
   "cell_type": "markdown",
   "metadata": {
    "id": "sS9S_Dm1OFoW"
   },
   "source": [
    "## Data Acquisition - Retrieving details of Deceased Patients using FHIR REST API"
   ]
  },
  {
   "cell_type": "markdown",
   "metadata": {
    "id": "JWubUEICOFoQ"
   },
   "source": [
    "### Import necessary Libraries"
   ]
  },
  {
   "cell_type": "code",
   "execution_count": 1,
   "metadata": {
    "colab": {
     "base_uri": "https://localhost:8080/"
    },
    "executionInfo": {
     "elapsed": 3319,
     "status": "ok",
     "timestamp": 1642630252116,
     "user": {
      "displayName": "Naomi Nikita Thammadi",
      "photoUrl": "https://lh3.googleusercontent.com/a/default-user=s64",
      "userId": "12357254589332450802"
     },
     "user_tz": 300
    },
    "id": "1npz0mVhOFoQ",
    "outputId": "153fcece-7414-4899-db3e-d6333c5ab608",
    "scrolled": true
   },
   "outputs": [
    {
     "name": "stdout",
     "output_type": "stream",
     "text": [
      "Requirement already satisfied: requests in /Users/nthammadi/opt/anaconda3/lib/python3.8/site-packages (2.25.1)\n",
      "Requirement already satisfied: chardet<5,>=3.0.2 in /Users/nthammadi/opt/anaconda3/lib/python3.8/site-packages (from requests) (4.0.0)\n",
      "Requirement already satisfied: idna<3,>=2.5 in /Users/nthammadi/opt/anaconda3/lib/python3.8/site-packages (from requests) (2.10)\n",
      "Requirement already satisfied: certifi>=2017.4.17 in /Users/nthammadi/opt/anaconda3/lib/python3.8/site-packages (from requests) (2020.12.5)\n",
      "Requirement already satisfied: urllib3<1.27,>=1.21.1 in /Users/nthammadi/opt/anaconda3/lib/python3.8/site-packages (from requests) (1.26.4)\n",
      "Requirement already satisfied: pymysql in /Users/nthammadi/opt/anaconda3/lib/python3.8/site-packages (1.0.2)\n"
     ]
    }
   ],
   "source": [
    "#import necessary libraries\n",
    "!pip install requests\n",
    "!pip install pymysql\n",
    "import requests\n",
    "import os\n",
    "import json\n",
    "import csv\n",
    "import pandas as pd\n",
    "import numpy as np\n",
    "import math\n",
    "\n",
    "#libraries to make a connection to mysql\n",
    "import sqlalchemy\n",
    "from sqlalchemy import create_engine\n",
    "import pymysql"
   ]
  },
  {
   "cell_type": "markdown",
   "metadata": {
    "id": "20E7GnJsOFoR"
   },
   "source": [
    "### Functions "
   ]
  },
  {
   "cell_type": "code",
   "execution_count": 2,
   "metadata": {
    "executionInfo": {
     "elapsed": 10,
     "status": "ok",
     "timestamp": 1642630252116,
     "user": {
      "displayName": "Naomi Nikita Thammadi",
      "photoUrl": "https://lh3.googleusercontent.com/a/default-user=s64",
      "userId": "12357254589332450802"
     },
     "user_tz": 300
    },
    "id": "bPBOJIQqOFoR"
   },
   "outputs": [],
   "source": [
    "#function to get the element for phone number from the json \n",
    "def get_correct_phone_data(arr):\n",
    "    #data can be NaN or a list\n",
    "    #below conditions check for that to get the right data within the list\n",
    "    if type(arr) == list:\n",
    "        if(len(arr)>1 and 'value' not in arr[0].keys()):\n",
    "            return arr[1]\n",
    "        else:\n",
    "            return arr[0]\n",
    "    elif math.isnan(arr) == False:\n",
    "        return arr[0]\n",
    "    else:\n",
    "        return 'unknown'"
   ]
  },
  {
   "cell_type": "code",
   "execution_count": 3,
   "metadata": {
    "executionInfo": {
     "elapsed": 10,
     "status": "ok",
     "timestamp": 1642630252117,
     "user": {
      "displayName": "Naomi Nikita Thammadi",
      "photoUrl": "https://lh3.googleusercontent.com/a/default-user=s64",
      "userId": "12357254589332450802"
     },
     "user_tz": 300
    },
    "id": "RX_2Nj7lOFoR",
    "scrolled": true
   },
   "outputs": [],
   "source": [
    "#function to clean patient data to convert lists to string and get right data from the json\n",
    "def clean_patient_data(df):\n",
    "    df['Name_JSON']=df['Name_JSON'].str[0]\n",
    "    df['Address_JSON']=df['Address_JSON'].str[0]\n",
    "    df['Phone_JSON']=df['Phone_JSON'].apply(lambda x:get_correct_phone_data(x))"
   ]
  },
  {
   "cell_type": "code",
   "execution_count": 4,
   "metadata": {
    "executionInfo": {
     "elapsed": 10,
     "status": "ok",
     "timestamp": 1642630252117,
     "user": {
      "displayName": "Naomi Nikita Thammadi",
      "photoUrl": "https://lh3.googleusercontent.com/a/default-user=s64",
      "userId": "12357254589332450802"
     },
     "user_tz": 300
    },
    "id": "BVxPhkLUOFoS"
   },
   "outputs": [],
   "source": [
    "#function to get name, address and phone details from the json\n",
    "def concat_patient_data(df):\n",
    "    #get name details and drop unnecessary columns\n",
    "    name_df=df['Name_JSON'].apply(json.dumps).apply(json.loads).apply(pd.Series)\n",
    "    name_df['Given Name']=[' '.join(map(str, l)) for l in name_df['given']]\n",
    "    name_df.drop(['use','fhir_comments','text','given','prefix'], axis = 1, inplace = True, errors='ignore')\n",
    "    \n",
    "    #get address details, format them and drop unnecessary columns\n",
    "    address_df=df['Address_JSON'].apply(json.dumps).apply(json.loads).apply(pd.Series)\n",
    "    address_df.drop([0,'district','text','type','use','period','extension','fhir_comments'], axis = 1, inplace = True, errors='ignore')\n",
    "    address_df.fillna('', inplace=True)\n",
    "    #combine street address into one line\n",
    "    address_df['line'] = [','.join(map(str, l)) for l in address_df['line']]\n",
    "    #combine street address, city, state, country into one column separated by (,)\n",
    "    address_df['Address']=address_df.apply(lambda row: ','.join(row.values.astype(str)), axis=1)\n",
    "    address_df.Address = address_df.Address.replace({',,,,,': 'unknown'})\n",
    "    address_df.rename(columns={'city': 'City', 'state': 'State', 'country': 'Country'}, inplace=True)\n",
    "    \n",
    "    #get phone details and drop unnecessary columns\n",
    "    phone_df=df['Phone_JSON'].apply(json.dumps).apply(json.loads).apply(pd.Series)\n",
    "    phone_df['Phone']=phone_df['value']\n",
    "    phone_df.drop([0,'rank','system','use','value'], axis = 1, inplace = True, errors='ignore')\n",
    "    phone_df.fillna('-', inplace=True)\n",
    "    \n",
    "    #concatenate all these dataframes into one and return it\n",
    "    df=pd.concat([df,name_df,address_df,phone_df],axis=1)\n",
    "    \n",
    "    return df"
   ]
  },
  {
   "cell_type": "code",
   "execution_count": 5,
   "metadata": {
    "executionInfo": {
     "elapsed": 10,
     "status": "ok",
     "timestamp": 1642630252117,
     "user": {
      "displayName": "Naomi Nikita Thammadi",
      "photoUrl": "https://lh3.googleusercontent.com/a/default-user=s64",
      "userId": "12357254589332450802"
     },
     "user_tz": 300
    },
    "id": "nD6eGqGAOFoT"
   },
   "outputs": [],
   "source": [
    "#function to arrange the data correctly to display\n",
    "def arrange_patient_data(df):\n",
    "    df['Family Name']=df['family']\n",
    "    df.drop(['Name_JSON','Address_JSON','Phone_JSON','family','line','postalCode','period','id'], axis = 1, inplace = True, errors='ignore')\n",
    "    df.fillna('-', inplace=True)\n",
    "    df['Date of Death'] = df['Date of Death'].replace({'-': 'unknown'})\n",
    "    df=df[['Patient Id','Given Name','Family Name','Gender','Date of Birth','Date of Death','Address','City','State','Country','Phone']]\n",
    "    return df"
   ]
  },
  {
   "cell_type": "code",
   "execution_count": 6,
   "metadata": {
    "executionInfo": {
     "elapsed": 10,
     "status": "ok",
     "timestamp": 1642630252117,
     "user": {
      "displayName": "Naomi Nikita Thammadi",
      "photoUrl": "https://lh3.googleusercontent.com/a/default-user=s64",
      "userId": "12357254589332450802"
     },
     "user_tz": 300
    },
    "id": "9DqVbgvVOFoT"
   },
   "outputs": [],
   "source": [
    "#function to search for patients based on search string\n",
    "def search_patients():\n",
    "    #url to make the API callout\n",
    "    url='http://hapi.fhir.org/baseR4/Patient?deceased=true'\n",
    "    response = requests.get(url)\n",
    "    #format the response to json\n",
    "    resp=response.json() \n",
    "    #store into a dataframe\n",
    "    data=pd.json_normalize(resp['entry'])\n",
    "    \n",
    "    patient_df=data.filter(['resource.id','resource.name','resource.gender','resource.birthDate','resource.deceasedDateTime','resource.address','resource.telecom','resource.deceasedBoolean'], axis=1)\n",
    "    patient_df.columns=['Patient Id','Name_JSON','Gender','Date of Birth','Date of Death', 'Address_JSON','Phone_JSON','Deceased']\n",
    "    \n",
    "    #call functions to run the necessary data preprocessing steps\n",
    "    clean_patient_data(patient_df)\n",
    "    patient_df=concat_patient_data(patient_df)\n",
    "    patient_df=arrange_patient_data(patient_df)\n",
    "    \n",
    "    return patient_df"
   ]
  },
  {
   "cell_type": "code",
   "execution_count": 7,
   "metadata": {
    "executionInfo": {
     "elapsed": 9,
     "status": "ok",
     "timestamp": 1642630252117,
     "user": {
      "displayName": "Naomi Nikita Thammadi",
      "photoUrl": "https://lh3.googleusercontent.com/a/default-user=s64",
      "userId": "12357254589332450802"
     },
     "user_tz": 300
    },
    "id": "rGWKljX-OFoW"
   },
   "outputs": [],
   "source": [
    "#function to display search results in a html\n",
    "def on_search_clicked(b):\n",
    "    search_patients.data=''\n",
    "    results=search_patients()\n",
    "    \n",
    "    #set the dataframe into a HTML table\n",
    "    search_patients.data= results.to_html();\n",
    "    \n",
    "    display(HTML(search_patients.data))"
   ]
  },
  {
   "cell_type": "markdown",
   "metadata": {
    "id": "sS9S_Dm1OFoW"
   },
   "source": [
    "## Display Patient Details"
   ]
  },
  {
   "cell_type": "code",
   "execution_count": 8,
   "metadata": {
    "colab": {
     "base_uri": "https://localhost:8080/",
     "height": 741,
     "referenced_widgets": [
      "73a9a64f9eba4e73841b825a03851621",
      "b7ecea006fe2407880b5fb913c914242",
      "5073892033ef405e9b6c6adfe314b772",
      "92545687959b418f849287528ead060e",
      "446fb1dc2fbb48f3b1355141e90c7de3",
      "c1fa108ab83a42018c9583177dfaffcb"
     ]
    },
    "executionInfo": {
     "elapsed": 9,
     "status": "ok",
     "timestamp": 1642630252117,
     "user": {
      "displayName": "Naomi Nikita Thammadi",
      "photoUrl": "https://lh3.googleusercontent.com/a/default-user=s64",
      "userId": "12357254589332450802"
     },
     "user_tz": 300
    },
    "id": "rkJwOp_ROFoW",
    "outputId": "7ca046fc-4e84-4901-8b52-950bf0fe2919",
    "scrolled": false
   },
   "outputs": [
    {
     "data": {
      "text/html": [
       "<h4>Click on \"Display Patients\" to show all the deceased patients.</h4>"
      ],
      "text/plain": [
       "<IPython.core.display.HTML object>"
      ]
     },
     "metadata": {},
     "output_type": "display_data"
    },
    {
     "data": {
      "application/vnd.jupyter.widget-view+json": {
       "model_id": "96b23ce8952744a295933b50d14d73c7",
       "version_major": 2,
       "version_minor": 0
      },
      "text/plain": [
       "Button(button_style='success', description='Display Patients', style=ButtonStyle())"
      ]
     },
     "metadata": {},
     "output_type": "display_data"
    },
    {
     "data": {
      "text/html": [
       "<table border=\"1\" class=\"dataframe\">\n",
       "  <thead>\n",
       "    <tr style=\"text-align: right;\">\n",
       "      <th></th>\n",
       "      <th>Patient Id</th>\n",
       "      <th>Given Name</th>\n",
       "      <th>Family Name</th>\n",
       "      <th>Gender</th>\n",
       "      <th>Date of Birth</th>\n",
       "      <th>Date of Death</th>\n",
       "      <th>Address</th>\n",
       "      <th>City</th>\n",
       "      <th>State</th>\n",
       "      <th>Country</th>\n",
       "      <th>Phone</th>\n",
       "    </tr>\n",
       "  </thead>\n",
       "  <tbody>\n",
       "    <tr>\n",
       "      <th>0</th>\n",
       "      <td>gtp101</td>\n",
       "      <td>Herbert</td>\n",
       "      <td>Hoover</td>\n",
       "      <td>male</td>\n",
       "      <td>1990-07-04</td>\n",
       "      <td>2019-07-30T02:34:06.000-05:00</td>\n",
       "      <td>123 Main Street North,Everytown,USA,99999,</td>\n",
       "      <td>Everytown</td>\n",
       "      <td>USA</td>\n",
       "      <td></td>\n",
       "      <td>8885551234</td>\n",
       "    </tr>\n",
       "    <tr>\n",
       "      <th>1</th>\n",
       "      <td>1059</td>\n",
       "      <td>Maria MN123</td>\n",
       "      <td>Max Mountbaton</td>\n",
       "      <td>male</td>\n",
       "      <td>2001-10-06</td>\n",
       "      <td>2015-06-17T12:38:39.000+05:30</td>\n",
       "      <td>L0111 L0112 L0113,L1112,Seattle,WA,98052,US</td>\n",
       "      <td>Seattle</td>\n",
       "      <td>WA</td>\n",
       "      <td>US</td>\n",
       "      <td>1311111111</td>\n",
       "    </tr>\n",
       "    <tr>\n",
       "      <th>2</th>\n",
       "      <td>1139</td>\n",
       "      <td>testname MN123</td>\n",
       "      <td>LN123</td>\n",
       "      <td>male</td>\n",
       "      <td>2001-10-05</td>\n",
       "      <td>2015-06-17T12:38:39.000+05:30</td>\n",
       "      <td>L0111 L0112 L0113,L1112,Seattle,WA,98052,US</td>\n",
       "      <td>Seattle</td>\n",
       "      <td>WA</td>\n",
       "      <td>US</td>\n",
       "      <td>1311111110</td>\n",
       "    </tr>\n",
       "    <tr>\n",
       "      <th>3</th>\n",
       "      <td>1190</td>\n",
       "      <td>FN123 MN123</td>\n",
       "      <td>LN123</td>\n",
       "      <td>male</td>\n",
       "      <td>2001-10-05</td>\n",
       "      <td>2015-06-17T12:38:39.000+05:30</td>\n",
       "      <td>L0111 L0112 L0113,L1112,Seattle,WA,98052,US</td>\n",
       "      <td>Seattle</td>\n",
       "      <td>WA</td>\n",
       "      <td>US</td>\n",
       "      <td>1311111111</td>\n",
       "    </tr>\n",
       "    <tr>\n",
       "      <th>4</th>\n",
       "      <td>24739</td>\n",
       "      <td>Tina A</td>\n",
       "      <td>Roy</td>\n",
       "      <td>male</td>\n",
       "      <td>2001-10-10</td>\n",
       "      <td>2010-11-11T11:12:14.000+05:30</td>\n",
       "      <td>Street comp1 comp2,AddLine2,Seattle,WA,98052,USA</td>\n",
       "      <td>Seattle</td>\n",
       "      <td>WA</td>\n",
       "      <td>USA</td>\n",
       "      <td>123-456-1111</td>\n",
       "    </tr>\n",
       "    <tr>\n",
       "      <th>5</th>\n",
       "      <td>30309</td>\n",
       "      <td>Steven</td>\n",
       "      <td>Johnston</td>\n",
       "      <td>male</td>\n",
       "      <td>1940-11-01</td>\n",
       "      <td>unknown</td>\n",
       "      <td>9938 American Place,FORT LAUDERDALE,FORT LAUDERDALE,FL,33319,US</td>\n",
       "      <td>FORT LAUDERDALE</td>\n",
       "      <td>FL</td>\n",
       "      <td>US</td>\n",
       "      <td>931-583-7931</td>\n",
       "    </tr>\n",
       "    <tr>\n",
       "      <th>6</th>\n",
       "      <td>31678</td>\n",
       "      <td>FN3062 MN3062</td>\n",
       "      <td>test_fn</td>\n",
       "      <td>male</td>\n",
       "      <td>2001-10-10</td>\n",
       "      <td>2010-11-11T11:12:14.000+05:30</td>\n",
       "      <td>Street comp1 comp2,AddLine2,Seattle,WA,98052,USA</td>\n",
       "      <td>Seattle</td>\n",
       "      <td>WA</td>\n",
       "      <td>USA</td>\n",
       "      <td>123-456-1111</td>\n",
       "    </tr>\n",
       "    <tr>\n",
       "      <th>7</th>\n",
       "      <td>40052</td>\n",
       "      <td>Peter James</td>\n",
       "      <td>Chalmers</td>\n",
       "      <td>male</td>\n",
       "      <td>1974-12-25</td>\n",
       "      <td>2019-02-16T23:42:00</td>\n",
       "      <td>534 Erewhon St,PleasantVille,Vic,3999,</td>\n",
       "      <td>PleasantVille</td>\n",
       "      <td>Vic</td>\n",
       "      <td></td>\n",
       "      <td>-</td>\n",
       "    </tr>\n",
       "    <tr>\n",
       "      <th>8</th>\n",
       "      <td>40562</td>\n",
       "      <td>Peter James</td>\n",
       "      <td>Chalmers</td>\n",
       "      <td>male</td>\n",
       "      <td>1974-12-25</td>\n",
       "      <td>2015-02-14T13:42:00+10:00</td>\n",
       "      <td>534 Erewhon St,PleasantVille,Vic,3999,</td>\n",
       "      <td>PleasantVille</td>\n",
       "      <td>Vic</td>\n",
       "      <td></td>\n",
       "      <td>+1-305-555-6401x1234</td>\n",
       "    </tr>\n",
       "    <tr>\n",
       "      <th>9</th>\n",
       "      <td>63070</td>\n",
       "      <td>Katerina</td>\n",
       "      <td>Nguyen</td>\n",
       "      <td>female</td>\n",
       "      <td>1979-08-20</td>\n",
       "      <td>unknown</td>\n",
       "      <td>Unit 7,76 Clydesdale St,Como,WA,6152,Australia</td>\n",
       "      <td>Como</td>\n",
       "      <td>WA</td>\n",
       "      <td>Australia</td>\n",
       "      <td>0403823832</td>\n",
       "    </tr>\n",
       "    <tr>\n",
       "      <th>10</th>\n",
       "      <td>75676</td>\n",
       "      <td>Chen</td>\n",
       "      <td>Jing</td>\n",
       "      <td>female</td>\n",
       "      <td>1979-08-18</td>\n",
       "      <td>unknown</td>\n",
       "      <td>Unit 7,76 Clydesdale St,Como,WA,6153,Australia</td>\n",
       "      <td>Como</td>\n",
       "      <td>WA</td>\n",
       "      <td>Australia</td>\n",
       "      <td>0403 823 832</td>\n",
       "    </tr>\n",
       "    <tr>\n",
       "      <th>11</th>\n",
       "      <td>76107</td>\n",
       "      <td>Katerina</td>\n",
       "      <td>JackMa</td>\n",
       "      <td>female</td>\n",
       "      <td>1979-08-18</td>\n",
       "      <td>unknown</td>\n",
       "      <td>Unit 7,76 Clydesdale St,Como,WA,6152,Australia</td>\n",
       "      <td>Como</td>\n",
       "      <td>WA</td>\n",
       "      <td>Australia</td>\n",
       "      <td>0403 823 832</td>\n",
       "    </tr>\n",
       "    <tr>\n",
       "      <th>12</th>\n",
       "      <td>113798</td>\n",
       "      <td>Katerina</td>\n",
       "      <td>Nguyen</td>\n",
       "      <td>female</td>\n",
       "      <td>1979-08-19</td>\n",
       "      <td>unknown</td>\n",
       "      <td>Unit 7,76 Clydesdale St,Como,WA,6152,Australia</td>\n",
       "      <td>Como</td>\n",
       "      <td>WA</td>\n",
       "      <td>Australia</td>\n",
       "      <td>0403 823 832</td>\n",
       "    </tr>\n",
       "    <tr>\n",
       "      <th>13</th>\n",
       "      <td>206686</td>\n",
       "      <td>Katerina</td>\n",
       "      <td>Nguyen</td>\n",
       "      <td>female</td>\n",
       "      <td>1979-08-18</td>\n",
       "      <td>unknown</td>\n",
       "      <td>Unit 7,76 Clydesdale St,Como,WA,6152,Australia</td>\n",
       "      <td>Como</td>\n",
       "      <td>WA</td>\n",
       "      <td>Australia</td>\n",
       "      <td>0403 823 832</td>\n",
       "    </tr>\n",
       "    <tr>\n",
       "      <th>14</th>\n",
       "      <td>224184</td>\n",
       "      <td>Katerina</td>\n",
       "      <td>Nguyen</td>\n",
       "      <td>male</td>\n",
       "      <td>1979-08-18</td>\n",
       "      <td>unknown</td>\n",
       "      <td>Unit 7,76 Clydesdale St,Como,WA,6152,Australia</td>\n",
       "      <td>Como</td>\n",
       "      <td>WA</td>\n",
       "      <td>Australia</td>\n",
       "      <td>0403 823 832</td>\n",
       "    </tr>\n",
       "    <tr>\n",
       "      <th>15</th>\n",
       "      <td>245080</td>\n",
       "      <td>Katerina</td>\n",
       "      <td>Nguyen</td>\n",
       "      <td>female</td>\n",
       "      <td>1979-08-18</td>\n",
       "      <td>unknown</td>\n",
       "      <td>Unit 7,76 Clydesdale St,Como,WA,6152,Australia</td>\n",
       "      <td>Como</td>\n",
       "      <td>WA</td>\n",
       "      <td>Australia</td>\n",
       "      <td>0403 823 832</td>\n",
       "    </tr>\n",
       "    <tr>\n",
       "      <th>16</th>\n",
       "      <td>248551</td>\n",
       "      <td>Katerina</td>\n",
       "      <td>Nguyen</td>\n",
       "      <td>female</td>\n",
       "      <td>1979-08-18</td>\n",
       "      <td>unknown</td>\n",
       "      <td>Unit 7,76 Clydesdale St,Como,WA,6152,Australia</td>\n",
       "      <td>Como</td>\n",
       "      <td>WA</td>\n",
       "      <td>Australia</td>\n",
       "      <td>0403 823 832</td>\n",
       "    </tr>\n",
       "    <tr>\n",
       "      <th>17</th>\n",
       "      <td>427013</td>\n",
       "      <td>Katerina</td>\n",
       "      <td>Nguyen</td>\n",
       "      <td>female</td>\n",
       "      <td>1979-08-30</td>\n",
       "      <td>unknown</td>\n",
       "      <td>Unit 7,76 Clydesdale St,Como,WA,6152,Australia</td>\n",
       "      <td>Como</td>\n",
       "      <td>WA</td>\n",
       "      <td>Australia</td>\n",
       "      <td>0403 823 832</td>\n",
       "    </tr>\n",
       "    <tr>\n",
       "      <th>18</th>\n",
       "      <td>591778</td>\n",
       "      <td>Tina A</td>\n",
       "      <td>Roy</td>\n",
       "      <td>male</td>\n",
       "      <td>2001-10-10</td>\n",
       "      <td>2010-11-11T11:12:14.456+07:00</td>\n",
       "      <td>Street comp1 comp2,AddLine2,Seattle,WA,98052,USA</td>\n",
       "      <td>Seattle</td>\n",
       "      <td>WA</td>\n",
       "      <td>USA</td>\n",
       "      <td>123-456-1111</td>\n",
       "    </tr>\n",
       "    <tr>\n",
       "      <th>19</th>\n",
       "      <td>591779</td>\n",
       "      <td>Tina A</td>\n",
       "      <td>Roy</td>\n",
       "      <td>male</td>\n",
       "      <td>2001-10-10</td>\n",
       "      <td>2010-11-11T11:12:14.000+05:30</td>\n",
       "      <td>Street comp1 comp2,AddLine2,Seattle,WA,98052,USA</td>\n",
       "      <td>Seattle</td>\n",
       "      <td>WA</td>\n",
       "      <td>USA</td>\n",
       "      <td>123-456-1111</td>\n",
       "    </tr>\n",
       "  </tbody>\n",
       "</table>"
      ],
      "text/plain": [
       "<IPython.core.display.HTML object>"
      ]
     },
     "metadata": {},
     "output_type": "display_data"
    }
   ],
   "source": [
    "from ipywidgets import widgets\n",
    "from IPython.core.display import display, HTML\n",
    "\n",
    "display(HTML('<h4>Click on \"Display Patients\" to show all the deceased patients.</h4>'))\n",
    "search_btn=widgets.Button(description=\"Display Patients\",button_style=\"success\")\n",
    "display(search_btn)\n",
    "search_btn.on_click(on_search_clicked)\n",
    "\n"
   ]
  },
  {
   "cell_type": "markdown",
   "metadata": {
    "id": "sS9S_Dm1OFoW"
   },
   "source": [
    "## Data Ingestion - Transfer Patient details to MySQL database"
   ]
  },
  {
   "cell_type": "code",
   "execution_count": 9,
   "metadata": {},
   "outputs": [
    {
     "data": {
      "text/html": [
       "<div>\n",
       "<style scoped>\n",
       "    .dataframe tbody tr th:only-of-type {\n",
       "        vertical-align: middle;\n",
       "    }\n",
       "\n",
       "    .dataframe tbody tr th {\n",
       "        vertical-align: top;\n",
       "    }\n",
       "\n",
       "    .dataframe thead th {\n",
       "        text-align: right;\n",
       "    }\n",
       "</style>\n",
       "<table border=\"1\" class=\"dataframe\">\n",
       "  <thead>\n",
       "    <tr style=\"text-align: right;\">\n",
       "      <th></th>\n",
       "      <th>patient_id</th>\n",
       "      <th>given_name</th>\n",
       "      <th>family_name</th>\n",
       "      <th>gender</th>\n",
       "      <th>date_of_birth</th>\n",
       "      <th>date_of_death</th>\n",
       "      <th>city</th>\n",
       "      <th>state</th>\n",
       "      <th>phone</th>\n",
       "      <th>death_by_natural_cause</th>\n",
       "      <th>alcohol_intake</th>\n",
       "      <th>nicotine_intake</th>\n",
       "      <th>race</th>\n",
       "      <th>bmi</th>\n",
       "      <th>health_issues</th>\n",
       "    </tr>\n",
       "  </thead>\n",
       "  <tbody>\n",
       "    <tr>\n",
       "      <th>0</th>\n",
       "      <td>7949473</td>\n",
       "      <td>Gaynor</td>\n",
       "      <td>Titta</td>\n",
       "      <td>Female</td>\n",
       "      <td>6/4/46</td>\n",
       "      <td>10/22/16 15:42</td>\n",
       "      <td>West Palm Beach</td>\n",
       "      <td>Florida</td>\n",
       "      <td>561-553-2724</td>\n",
       "      <td>0</td>\n",
       "      <td>Never</td>\n",
       "      <td>Never</td>\n",
       "      <td>Asian</td>\n",
       "      <td>Normal</td>\n",
       "      <td>1</td>\n",
       "    </tr>\n",
       "    <tr>\n",
       "      <th>1</th>\n",
       "      <td>9662622</td>\n",
       "      <td>Oona</td>\n",
       "      <td>Pusill</td>\n",
       "      <td>Female</td>\n",
       "      <td>11/26/65</td>\n",
       "      <td>5/17/16 22:33</td>\n",
       "      <td>Hollywood</td>\n",
       "      <td>Florida</td>\n",
       "      <td>954-178-3132</td>\n",
       "      <td>0</td>\n",
       "      <td>Often</td>\n",
       "      <td>Often</td>\n",
       "      <td>Alaska Native</td>\n",
       "      <td>Over weight</td>\n",
       "      <td>1</td>\n",
       "    </tr>\n",
       "    <tr>\n",
       "      <th>2</th>\n",
       "      <td>6716847</td>\n",
       "      <td>Yetta</td>\n",
       "      <td>Taysbil</td>\n",
       "      <td>Male</td>\n",
       "      <td>9/14/47</td>\n",
       "      <td>11/16/07 10:39</td>\n",
       "      <td>Jersey City</td>\n",
       "      <td>New Jersey</td>\n",
       "      <td>201-765-7538</td>\n",
       "      <td>0</td>\n",
       "      <td>Never</td>\n",
       "      <td>Never</td>\n",
       "      <td>African American</td>\n",
       "      <td>Under weight</td>\n",
       "      <td>1</td>\n",
       "    </tr>\n",
       "    <tr>\n",
       "      <th>3</th>\n",
       "      <td>8349189</td>\n",
       "      <td>Farrah</td>\n",
       "      <td>Bartles</td>\n",
       "      <td>Male</td>\n",
       "      <td>12/8/97</td>\n",
       "      <td>2/18/00 1:18</td>\n",
       "      <td>Murfreesboro</td>\n",
       "      <td>Tennessee</td>\n",
       "      <td>615-130-9597</td>\n",
       "      <td>0</td>\n",
       "      <td>Often</td>\n",
       "      <td>Often</td>\n",
       "      <td>Alaska Native</td>\n",
       "      <td>Over weight</td>\n",
       "      <td>0</td>\n",
       "    </tr>\n",
       "    <tr>\n",
       "      <th>4</th>\n",
       "      <td>3790901</td>\n",
       "      <td>Richardo</td>\n",
       "      <td>Hedau</td>\n",
       "      <td>Bigender</td>\n",
       "      <td>7/11/77</td>\n",
       "      <td>12/24/93 11:05</td>\n",
       "      <td>Reston</td>\n",
       "      <td>Virginia</td>\n",
       "      <td>571-153-4428</td>\n",
       "      <td>1</td>\n",
       "      <td>Never</td>\n",
       "      <td>Occasionally</td>\n",
       "      <td>Native Hawaiian</td>\n",
       "      <td>Normal</td>\n",
       "      <td>1</td>\n",
       "    </tr>\n",
       "  </tbody>\n",
       "</table>\n",
       "</div>"
      ],
      "text/plain": [
       "   patient_id given_name family_name    gender date_of_birth   date_of_death  \\\n",
       "0     7949473     Gaynor       Titta    Female        6/4/46  10/22/16 15:42   \n",
       "1     9662622       Oona      Pusill    Female      11/26/65   5/17/16 22:33   \n",
       "2     6716847      Yetta     Taysbil      Male       9/14/47  11/16/07 10:39   \n",
       "3     8349189     Farrah     Bartles      Male       12/8/97    2/18/00 1:18   \n",
       "4     3790901   Richardo       Hedau  Bigender       7/11/77  12/24/93 11:05   \n",
       "\n",
       "              city       state         phone  death_by_natural_cause  \\\n",
       "0  West Palm Beach     Florida  561-553-2724                       0   \n",
       "1        Hollywood     Florida  954-178-3132                       0   \n",
       "2      Jersey City  New Jersey  201-765-7538                       0   \n",
       "3     Murfreesboro   Tennessee  615-130-9597                       0   \n",
       "4           Reston    Virginia  571-153-4428                       1   \n",
       "\n",
       "  alcohol_intake nicotine_intake              race           bmi  \\\n",
       "0          Never           Never             Asian        Normal   \n",
       "1          Often           Often     Alaska Native   Over weight   \n",
       "2          Never           Never  African American  Under weight   \n",
       "3          Often           Often     Alaska Native   Over weight   \n",
       "4          Never    Occasionally   Native Hawaiian        Normal   \n",
       "\n",
       "   health_issues  \n",
       "0              1  \n",
       "1              1  \n",
       "2              1  \n",
       "3              0  \n",
       "4              1  "
      ]
     },
     "execution_count": 9,
     "metadata": {},
     "output_type": "execute_result"
    }
   ],
   "source": [
    "#read the csv files and convert into dataframe\n",
    "parent_dir='./Data/'\n",
    "file_name='patient_data.csv'\n",
    "patients_df=pd.read_csv(parent_dir+file_name)\n",
    "patients_df.head()"
   ]
  },
  {
   "cell_type": "code",
   "execution_count": 10,
   "metadata": {},
   "outputs": [
    {
     "data": {
      "text/plain": [
       "(10000, 15)"
      ]
     },
     "execution_count": 10,
     "metadata": {},
     "output_type": "execute_result"
    }
   ],
   "source": [
    "patients_df.shape"
   ]
  },
  {
   "cell_type": "code",
   "execution_count": 11,
   "metadata": {},
   "outputs": [
    {
     "name": "stdout",
     "output_type": "stream",
     "text": [
      "<class 'pandas.core.frame.DataFrame'>\n",
      "RangeIndex: 10000 entries, 0 to 9999\n",
      "Data columns (total 15 columns):\n",
      " #   Column                  Non-Null Count  Dtype \n",
      "---  ------                  --------------  ----- \n",
      " 0   patient_id              10000 non-null  int64 \n",
      " 1   given_name              10000 non-null  object\n",
      " 2   family_name             10000 non-null  object\n",
      " 3   gender                  10000 non-null  object\n",
      " 4   date_of_birth           10000 non-null  object\n",
      " 5   date_of_death           10000 non-null  object\n",
      " 6   city                    10000 non-null  object\n",
      " 7   state                   10000 non-null  object\n",
      " 8   phone                   10000 non-null  object\n",
      " 9   death_by_natural_cause  10000 non-null  int64 \n",
      " 10  alcohol_intake          10000 non-null  object\n",
      " 11  nicotine_intake         10000 non-null  object\n",
      " 12  race                    10000 non-null  object\n",
      " 13  bmi                     10000 non-null  object\n",
      " 14  health_issues           10000 non-null  int64 \n",
      "dtypes: int64(3), object(12)\n",
      "memory usage: 1.1+ MB\n"
     ]
    }
   ],
   "source": [
    "patients_df.info()"
   ]
  },
  {
   "cell_type": "code",
   "execution_count": 12,
   "metadata": {},
   "outputs": [],
   "source": [
    "#convert date fields in the correct format to insert into the database\n",
    "patients_df['date_of_birth']=pd.to_datetime(patients_df.date_of_birth)\n",
    "patients_df['date_of_death']=pd.to_datetime(patients_df.date_of_death)"
   ]
  },
  {
   "cell_type": "markdown",
   "metadata": {
    "id": "sS9S_Dm1OFoW"
   },
   "source": [
    "## Connect to MySQL"
   ]
  },
  {
   "cell_type": "code",
   "execution_count": 13,
   "metadata": {},
   "outputs": [],
   "source": [
    "#function to connect to MySQL Database\n",
    "def connect_to_db(hostname,dbname,uname,pwd):\n",
    "    # Credentials to database connection\n",
    "    # hostname: usually localhost or any other location where the data is hosted\n",
    "    # dbname: database schema name\n",
    "    # uname: username for authentication\n",
    "    # pwd: password for authentication\n",
    "\n",
    "    # Create SQLAlchemy engine to connect to MySQL Database\n",
    "    sqlEngine = create_engine(\"mysql+pymysql://{user}:{pw}@{host}/{db}\".format(host=hostname, db=dbname, user=uname, pw=pwd))\n",
    "    #dictionary of the sql connection engine and connection message\n",
    "    connection_results={'engine': sqlEngine, 'message': ''}\n",
    "    \n",
    "    #connect to the database\n",
    "    try:\n",
    "        dbConnection = sqlEngine.connect()\n",
    "        connection_results.update({'message':'Connection Successful'})\n",
    "    except Exception as ex:\n",
    "        connection_results.update({'message':'Connection Failed. Error: '+str(ex)})\n",
    "    finally:\n",
    "        dbConnection.close()\n",
    "        \n",
    "    return connection_results;"
   ]
  },
  {
   "cell_type": "code",
   "execution_count": 14,
   "metadata": {
    "executionInfo": {
     "elapsed": 9,
     "status": "ok",
     "timestamp": 1642630252117,
     "user": {
      "displayName": "Naomi Nikita Thammadi",
      "photoUrl": "https://lh3.googleusercontent.com/a/default-user=s64",
      "userId": "12357254589332450802"
     },
     "user_tz": 300
    },
    "id": "rGWKljX-OFoW"
   },
   "outputs": [],
   "source": [
    "#function to call connect_to_db on button click\n",
    "def on_connect_clicked(b):\n",
    "    connect_to_db.data=''\n",
    "    connect_to_db.data=connect_to_db(\"localhost\",\"Patient_DB\",\"dbuser\",\"db1234\").get('message')\n",
    "    display(HTML(connect_to_db.data))"
   ]
  },
  {
   "cell_type": "code",
   "execution_count": 15,
   "metadata": {
    "scrolled": true
   },
   "outputs": [
    {
     "data": {
      "text/html": [
       "<h4>Click on \"Connect to MySQL\" to test the connection to the database</h4>"
      ],
      "text/plain": [
       "<IPython.core.display.HTML object>"
      ]
     },
     "metadata": {},
     "output_type": "display_data"
    },
    {
     "data": {
      "application/vnd.jupyter.widget-view+json": {
       "model_id": "683455e21a764518bc97f6ab778c8b6e",
       "version_major": 2,
       "version_minor": 0
      },
      "text/plain": [
       "Button(button_style='success', description='Connect to MySQL', style=ButtonStyle())"
      ]
     },
     "metadata": {},
     "output_type": "display_data"
    }
   ],
   "source": [
    "#connect to the database\n",
    "display(HTML('<h4>Click on \"Connect to MySQL\" to test the connection to the database</h4>'))\n",
    "connect_btn=widgets.Button(description=\"Connect to MySQL\",button_style=\"success\")\n",
    "display(connect_btn)\n",
    "connect_btn.on_click(on_connect_clicked)\n"
   ]
  },
  {
   "cell_type": "markdown",
   "metadata": {
    "id": "sS9S_Dm1OFoW"
   },
   "source": [
    "## Transfer data to MySQL"
   ]
  },
  {
   "cell_type": "code",
   "execution_count": 16,
   "metadata": {},
   "outputs": [],
   "source": [
    "#function to add rows to Patients table \n",
    "def transfer_to_db():\n",
    "    #get the patient details\n",
    "    message=''\n",
    "    #check for size of the dataframe before transferring data to MySQL\n",
    "    if len(patients_df) > 0:\n",
    "        #call the method to connect to MySQL\n",
    "        connection=connect_to_db(\"localhost\",\"Patient_DB\",\"dbuser\",\"db1234\")\n",
    "        sqlEngine=connection.get('engine')\n",
    "        #table to insert into\n",
    "        tbname='patients'\n",
    "        \n",
    "        #insert records into the table\n",
    "        try:\n",
    "            dbConnection = sqlEngine.connect()\n",
    "            #df.to_sql() will insert the dataframe values into MySQL table\n",
    "            #since table is already created, if_exists will append the results to it\n",
    "            #index=False so that dataframe index is not added to MySQL table\n",
    "            patients_df.to_sql(tbname, sqlEngine, index=False, if_exists='append') \n",
    "            message='Data Successfully transfered to Patients table'\n",
    "        except Exception as ex:\n",
    "            message='Transfer Failed. Error: '+str(ex)\n",
    "        finally:\n",
    "            dbConnection.close()\n",
    "            \n",
    "    else:\n",
    "        message='No data to transfer to Patients table'\n",
    "        \n",
    "    return message"
   ]
  },
  {
   "cell_type": "code",
   "execution_count": 17,
   "metadata": {
    "executionInfo": {
     "elapsed": 9,
     "status": "ok",
     "timestamp": 1642630252117,
     "user": {
      "displayName": "Naomi Nikita Thammadi",
      "photoUrl": "https://lh3.googleusercontent.com/a/default-user=s64",
      "userId": "12357254589332450802"
     },
     "user_tz": 300
    },
    "id": "rGWKljX-OFoW"
   },
   "outputs": [],
   "source": [
    "#function to call transfer_to_db on button click\n",
    "def on_transfer_clicked(b):\n",
    "    transfer_to_db.data=''\n",
    "    transfer_to_db.data=transfer_to_db()\n",
    "    display(HTML(transfer_to_db.data))"
   ]
  },
  {
   "cell_type": "code",
   "execution_count": 18,
   "metadata": {
    "scrolled": true
   },
   "outputs": [
    {
     "data": {
      "text/html": [
       "<h4>After Data Preprocessing, click on \"Transfer\" to write data to Patients table</h4>"
      ],
      "text/plain": [
       "<IPython.core.display.HTML object>"
      ]
     },
     "metadata": {},
     "output_type": "display_data"
    },
    {
     "data": {
      "application/vnd.jupyter.widget-view+json": {
       "model_id": "a6de0eb0cbc348dda73678e38c8ee61d",
       "version_major": 2,
       "version_minor": 0
      },
      "text/plain": [
       "Button(button_style='success', description='Transfer', style=ButtonStyle())"
      ]
     },
     "metadata": {},
     "output_type": "display_data"
    }
   ],
   "source": [
    "#transfer data to the database\n",
    "display(HTML('<h4>After Data Preprocessing, click on \"Transfer\" to write data to Patients table</h4>'))\n",
    "transfer_btn=widgets.Button(description=\"Transfer\",button_style=\"success\")\n",
    "display(transfer_btn)\n",
    "transfer_btn.on_click(on_transfer_clicked)\n"
   ]
  },
  {
   "cell_type": "markdown",
   "metadata": {
    "id": "sS9S_Dm1OFoW"
   },
   "source": [
    "## Retrieve data from MySQL"
   ]
  },
  {
   "cell_type": "code",
   "execution_count": 19,
   "metadata": {},
   "outputs": [],
   "source": [
    "#function to retrieve selected rows from Patients table \n",
    "def retrieve_from_db():\n",
    "    #call the method to connect to MySQL\n",
    "    connection=connect_to_db(\"localhost\",\"Patient_DB\",\"dbuser\",\"db1234\")\n",
    "    sqlEngine=connection.get('engine')\n",
    "    ResultSet = pd.DataFrame()\n",
    "    \n",
    "    try:\n",
    "        dbConnection = sqlEngine.connect()\n",
    "        metadata = sqlalchemy.MetaData()\n",
    "        #get patients table\n",
    "        patients = sqlalchemy.Table('patients', metadata, autoload=True, autoload_with=sqlEngine)\n",
    "        query = sqlalchemy.select([patients]).where(sqlalchemy.and_(patients.columns.gender==\"Female\",patients.columns.state==\"Florida\")).order_by(sqlalchemy.asc(patients.columns.family_name)) \n",
    "                #Equivalent to 'SELECT * FROM patients WHERE gender=Female AND state=Florida order by family_name'\n",
    "        ResultProxy = dbConnection.execute(query).fetchall()\n",
    "        ResultSet=pd.DataFrame(ResultProxy)\n",
    "        ResultSet.columns = patients.columns.keys()\n",
    "        \n",
    "    except Exception as ex:\n",
    "        print('Retrieval Failed. Error: '+str(ex))\n",
    "    \n",
    "    finally:\n",
    "        dbConnection.close()\n",
    "        \n",
    "    return ResultSet;"
   ]
  },
  {
   "cell_type": "code",
   "execution_count": 20,
   "metadata": {},
   "outputs": [],
   "source": [
    "#function to call retreive_from_db on button click\n",
    "def on_retrieve_clicked(b):\n",
    "    retrieve_from_db.data=''\n",
    "    retrieve_from_db.data=retrieve_from_db().to_html()\n",
    "    display(HTML(retrieve_from_db.data))"
   ]
  },
  {
   "cell_type": "code",
   "execution_count": 21,
   "metadata": {
    "scrolled": true
   },
   "outputs": [
    {
     "data": {
      "text/html": [
       "<h4>Retrieve Patients table</h4>"
      ],
      "text/plain": [
       "<IPython.core.display.HTML object>"
      ]
     },
     "metadata": {},
     "output_type": "display_data"
    },
    {
     "data": {
      "application/vnd.jupyter.widget-view+json": {
       "model_id": "391db90382924f65aee68ea60038c433",
       "version_major": 2,
       "version_minor": 0
      },
      "text/plain": [
       "Button(button_style='success', description='Get Patients', style=ButtonStyle())"
      ]
     },
     "metadata": {},
     "output_type": "display_data"
    }
   ],
   "source": [
    "#retrieve patients from database\n",
    "display(HTML('<h4>Retrieve Patients table</h4>'))\n",
    "retrieve_btn=widgets.Button(description=\"Get Patients\",button_style=\"success\")\n",
    "display(retrieve_btn)\n",
    "retrieve_btn.on_click(on_retrieve_clicked)"
   ]
  },
  {
   "cell_type": "markdown",
   "metadata": {},
   "source": [
    "### Assignment:\n",
    "\n",
    "<ol>\n",
    "    <li>Create a Patients table in MySQL</li>\n",
    "    <li>Load <b>patients_data.csv</b> into python</li>\n",
    "    <li>Transfer patients data to MySQL</li>\n",
    "    <li>Retrieve patients data from MySQL to Tableau</li>\n",
    "    <li>Run some analytics on MySQL/Tableau</li>\n",
    "</ol>"
   ]
  }
 ],
 "metadata": {
  "colab": {
   "name": "FHIR Demo.ipynb",
   "provenance": []
  },
  "kernelspec": {
   "display_name": "Python 3",
   "language": "python",
   "name": "python3"
  },
  "language_info": {
   "codemirror_mode": {
    "name": "ipython",
    "version": 3
   },
   "file_extension": ".py",
   "mimetype": "text/x-python",
   "name": "python",
   "nbconvert_exporter": "python",
   "pygments_lexer": "ipython3",
   "version": "3.8.8"
  },
  "widgets": {
   "application/vnd.jupyter.widget-state+json": {
    "446fb1dc2fbb48f3b1355141e90c7de3": {
     "model_module": "@jupyter-widgets/controls",
     "model_module_version": "1.5.0",
     "model_name": "ButtonStyleModel",
     "state": {
      "_model_module": "@jupyter-widgets/controls",
      "_model_module_version": "1.5.0",
      "_model_name": "ButtonStyleModel",
      "_view_count": null,
      "_view_module": "@jupyter-widgets/base",
      "_view_module_version": "1.2.0",
      "_view_name": "StyleView",
      "button_color": null,
      "font_weight": ""
     }
    },
    "5073892033ef405e9b6c6adfe314b772": {
     "model_module": "@jupyter-widgets/base",
     "model_module_version": "1.2.0",
     "model_name": "LayoutModel",
     "state": {
      "_model_module": "@jupyter-widgets/base",
      "_model_module_version": "1.2.0",
      "_model_name": "LayoutModel",
      "_view_count": null,
      "_view_module": "@jupyter-widgets/base",
      "_view_module_version": "1.2.0",
      "_view_name": "LayoutView",
      "align_content": null,
      "align_items": null,
      "align_self": null,
      "border": null,
      "bottom": null,
      "display": null,
      "flex": null,
      "flex_flow": null,
      "grid_area": null,
      "grid_auto_columns": null,
      "grid_auto_flow": null,
      "grid_auto_rows": null,
      "grid_column": null,
      "grid_gap": null,
      "grid_row": null,
      "grid_template_areas": null,
      "grid_template_columns": null,
      "grid_template_rows": null,
      "height": null,
      "justify_content": null,
      "justify_items": null,
      "left": null,
      "margin": null,
      "max_height": null,
      "max_width": null,
      "min_height": null,
      "min_width": null,
      "object_fit": null,
      "object_position": null,
      "order": null,
      "overflow": null,
      "overflow_x": null,
      "overflow_y": null,
      "padding": null,
      "right": null,
      "top": null,
      "visibility": null,
      "width": null
     }
    },
    "73a9a64f9eba4e73841b825a03851621": {
     "model_module": "@jupyter-widgets/controls",
     "model_module_version": "1.5.0",
     "model_name": "TextModel",
     "state": {
      "_dom_classes": [],
      "_model_module": "@jupyter-widgets/controls",
      "_model_module_version": "1.5.0",
      "_model_name": "TextModel",
      "_view_count": null,
      "_view_module": "@jupyter-widgets/controls",
      "_view_module_version": "1.5.0",
      "_view_name": "TextView",
      "continuous_update": true,
      "description": "Enter Name:",
      "description_tooltip": null,
      "disabled": false,
      "layout": "IPY_MODEL_5073892033ef405e9b6c6adfe314b772",
      "placeholder": "example: Jane",
      "style": "IPY_MODEL_b7ecea006fe2407880b5fb913c914242",
      "value": "Peter"
     }
    },
    "92545687959b418f849287528ead060e": {
     "model_module": "@jupyter-widgets/controls",
     "model_module_version": "1.5.0",
     "model_name": "ButtonModel",
     "state": {
      "_dom_classes": [],
      "_model_module": "@jupyter-widgets/controls",
      "_model_module_version": "1.5.0",
      "_model_name": "ButtonModel",
      "_view_count": null,
      "_view_module": "@jupyter-widgets/controls",
      "_view_module_version": "1.5.0",
      "_view_name": "ButtonView",
      "button_style": "success",
      "description": "Search",
      "disabled": false,
      "icon": "",
      "layout": "IPY_MODEL_c1fa108ab83a42018c9583177dfaffcb",
      "style": "IPY_MODEL_446fb1dc2fbb48f3b1355141e90c7de3",
      "tooltip": ""
     }
    },
    "b7ecea006fe2407880b5fb913c914242": {
     "model_module": "@jupyter-widgets/controls",
     "model_module_version": "1.5.0",
     "model_name": "DescriptionStyleModel",
     "state": {
      "_model_module": "@jupyter-widgets/controls",
      "_model_module_version": "1.5.0",
      "_model_name": "DescriptionStyleModel",
      "_view_count": null,
      "_view_module": "@jupyter-widgets/base",
      "_view_module_version": "1.2.0",
      "_view_name": "StyleView",
      "description_width": ""
     }
    },
    "c1fa108ab83a42018c9583177dfaffcb": {
     "model_module": "@jupyter-widgets/base",
     "model_module_version": "1.2.0",
     "model_name": "LayoutModel",
     "state": {
      "_model_module": "@jupyter-widgets/base",
      "_model_module_version": "1.2.0",
      "_model_name": "LayoutModel",
      "_view_count": null,
      "_view_module": "@jupyter-widgets/base",
      "_view_module_version": "1.2.0",
      "_view_name": "LayoutView",
      "align_content": null,
      "align_items": null,
      "align_self": null,
      "border": null,
      "bottom": null,
      "display": null,
      "flex": null,
      "flex_flow": null,
      "grid_area": null,
      "grid_auto_columns": null,
      "grid_auto_flow": null,
      "grid_auto_rows": null,
      "grid_column": null,
      "grid_gap": null,
      "grid_row": null,
      "grid_template_areas": null,
      "grid_template_columns": null,
      "grid_template_rows": null,
      "height": null,
      "justify_content": null,
      "justify_items": null,
      "left": null,
      "margin": null,
      "max_height": null,
      "max_width": null,
      "min_height": null,
      "min_width": null,
      "object_fit": null,
      "object_position": null,
      "order": null,
      "overflow": null,
      "overflow_x": null,
      "overflow_y": null,
      "padding": null,
      "right": null,
      "top": null,
      "visibility": null,
      "width": null
     }
    }
   }
  }
 },
 "nbformat": 4,
 "nbformat_minor": 1
}
